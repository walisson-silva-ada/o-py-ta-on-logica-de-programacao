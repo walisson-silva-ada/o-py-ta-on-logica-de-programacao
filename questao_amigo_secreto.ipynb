{
 "cells": [
  {
   "cell_type": "markdown",
   "metadata": {},
   "source": [
    "### Amigo Secreto ⛄\n",
    "\n",
    "Na família Natalícia já é tradição a realização do amigo secreto (ou amigo oculto) na véspera de natal. Todos os anos a família inteira se reune para a troca de presentes. É um momento de muita diversão e descontração.\n",
    "\n",
    "Neste ano, a caçula Jocelina resolveu deixar o momento ainda mais divertido: ela propôs que todos os participantes colocassem em uma lista 3 sugestões para presentes. A partir dessa lista ela pensou em montar um programa que, colocado um nome **N** e um presente **P**, o programa retorna se a pessoa acertou ou não no presente para seu amigo secreto.\n",
    "\n",
    "Só que Joce não sabe muito de programação, e acabou precisando de ajuda para montar esse programa. Você, sendo tomado(a) pelo espírito natalino, aceitou o desafio!\n",
    "\n",
    "#### Entrada\n",
    "\n",
    "```\n",
    "5\n",
    "iara mochila estojo lapis\n",
    "adelar sapato camisa carteira\n",
    "jessica agenda bolsa brincos\n",
    "jocelina xicara meias perfume\n",
    "elaine sandalia sapatilha camiseta\n",
    "jessica carteira\n",
    "jessica agenda\n",
    "iara sandalia\n",
    "elaine mochila\n",
    "iara mochila\n",
    "adelar carteira\n",
    "```\n",
    "\n",
    "#### Saída\n",
    "```\n",
    "Tente Novamente!\n",
    "Uhul! Seu amigo secreto vai adorar o/\n",
    "Tente Novamente!\n",
    "Tente Novamente!\n",
    "Uhul! Seu amigo secreto vai adorar o/\n",
    "Uhul! Seu amigo secreto vai adorar o/\n",
    "```"
   ]
  },
  {
   "cell_type": "code",
   "execution_count": 43,
   "metadata": {},
   "outputs": [
    {
     "name": "stdin",
     "output_type": "stream",
     "text": [
      "Digite quantas pessoas irão participar do Amigo Secreto:  5\n",
      "Cadasto:  iara mochila estojo lapis\n",
      "Cadasto:  adelar sapato camisa carteira\n",
      "Cadasto:  jessica agenda bolsa brincos\n",
      "Cadasto:  jocelina xicara meias perfume\n",
      "Cadasto:  elaine sandalia sapatilha camiseta\n"
     ]
    },
    {
     "name": "stdout",
     "output_type": "stream",
     "text": [
      "Cadastros efetuados com sucesso!\n"
     ]
    },
    {
     "name": "stdin",
     "output_type": "stream",
     "text": [
      "Pesquisa:  jessica carteira\n"
     ]
    },
    {
     "name": "stdout",
     "output_type": "stream",
     "text": [
      "Tente Novamente!\n"
     ]
    },
    {
     "name": "stdin",
     "output_type": "stream",
     "text": [
      "Digite 1 para tentar outro pesquisa:  1\n",
      "Pesquisa:  jessica agenda\n"
     ]
    },
    {
     "name": "stdout",
     "output_type": "stream",
     "text": [
      "Uhul! Seu amigo secreto vai adorar o/\n"
     ]
    },
    {
     "name": "stdin",
     "output_type": "stream",
     "text": [
      "Digite 1 para tentar outro pesquisa:  1\n",
      "Pesquisa:  iara sandalia\n"
     ]
    },
    {
     "name": "stdout",
     "output_type": "stream",
     "text": [
      "Tente Novamente!\n"
     ]
    },
    {
     "name": "stdin",
     "output_type": "stream",
     "text": [
      "Digite 1 para tentar outro pesquisa:  elaine mochila\n"
     ]
    },
    {
     "name": "stdout",
     "output_type": "stream",
     "text": [
      "Programa finalizado!\n"
     ]
    }
   ],
   "source": [
    "numero_pessoas = int(input('Digite quantas pessoas irão participar do Amigo Secreto: '))\n",
    "presentes = {}\n",
    "for _ in range(numero_pessoas):\n",
    "    lista = input('Cadasto: ').split(' ')\n",
    "    presentes[lista[0]] = lista[1:]\n",
    "print('Cadastros efetuados com sucesso!')\n",
    "comando = '1'\n",
    "while comando == '1':    \n",
    "    entrada = input('Pesquisa: ').split(' ')\n",
    "    if entrada[0] in presentes.keys():\n",
    "        if entrada[1] in presentes[entrada[0]]:\n",
    "            print('Uhul! Seu amigo secreto vai adorar o/')\n",
    "        else:\n",
    "            print('Tente Novamente!')\n",
    "    else:\n",
    "        print('Esse nome não está na lista!')\n",
    "    comando = input('Digite 1 para tentar outro pesquisa: ')\n",
    "print('Programa finalizado!')"
   ]
  }
 ],
 "metadata": {
  "kernelspec": {
   "display_name": "Python 3 (ipykernel)",
   "language": "python",
   "name": "python3"
  },
  "language_info": {
   "codemirror_mode": {
    "name": "ipython",
    "version": 3
   },
   "file_extension": ".py",
   "mimetype": "text/x-python",
   "name": "python",
   "nbconvert_exporter": "python",
   "pygments_lexer": "ipython3",
   "version": "3.9.5"
  },
  "toc-autonumbering": false
 },
 "nbformat": 4,
 "nbformat_minor": 4
}
