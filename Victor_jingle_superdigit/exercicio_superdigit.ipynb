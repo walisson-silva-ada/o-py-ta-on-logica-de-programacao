{
 "cells": [
  {
   "cell_type": "markdown",
   "metadata": {},
   "source": [
    "# Exercícios\n",
    "\n",
    "#### 05. Funções\n",
    "\n",
    "---\n",
    "\n",
    "<img src=\"https://selecao.letscode.com.br/favicon.png\" width=\"40px\" style=\"position: absolute; top: 0px; right: 40px; border-radius: 5px;\" />"
   ]
  },
  {
   "cell_type": "markdown",
   "metadata": {},
   "source": [
    "### Para entregar! 🔥"
   ]
  },
  {
   "cell_type": "markdown",
   "metadata": {},
   "source": [
    "**01. Faça uma função que recebe duas entradas: um input dado pelo usuário e um string que informa o tipo de dado (\"idade\", \"salário\" ou \"sexo\"), e verifica se os dados digitados foram válidos, usando os seguintes critérios:**\n",
    "\n",
    "a. Idade: entre 0 e 150;  \n",
    "b. Salário: maior que 0;  \n",
    "c. Sexo: M, F ou Outro."
   ]
  },
  {
   "cell_type": "code",
   "execution_count": 2,
   "metadata": {},
   "outputs": [
    {
     "name": "stdout",
     "output_type": "stream",
     "text": [
      "Os dados digitados sao validos\n"
     ]
    }
   ],
   "source": [
    "def input_verifica():\n",
    "    idade = int(input('Digite a idade'))\n",
    "    salario = float(input('Digite o salario'))\n",
    "    sexo = input('Digite o sexo (M,F ou Outro)')\n",
    "\n",
    "    if 0 < idade and idade < 150:\n",
    "        if salario > 0:\n",
    "            if sexo == 'M' or sexo == 'F' or sexo == 'Outro':\n",
    "                return True\n",
    "    \n",
    "    return False\n",
    "\n",
    "valido = input_verifica()\n",
    "if valido:\n",
    "    print('Os dados digitados sao validos')\n",
    "else:\n",
    "    print('Os dados digitados não são validos')"
   ]
  },
  {
   "cell_type": "markdown",
   "metadata": {},
   "source": [
    "**02. Faça um sistema de cadastro de clientes. Modele cada cliente como uma lista de três elementos: nome, CPF e e-mail.**\n",
    "\n",
    "a. Faça uma função que peça o nome, o CPF e o e-mail da pessoa e retorne uma lista contendo esses elementos nessa ordem.  \n",
    "b. Os clientes cadastrados devem ser armazenados em uma lista (uma lista de listas, já que cada cliente será uma lista tal como produzido no item a).  \n",
    "c. Faça uma função que recebe a lista do item b) e um CPF e, se esse cliente estiver na lista de cadastro, sua função deve devolver a lista de dados desse cliente; caso contrário, sua função deve imprimir “não encontrado”.  \n",
    "d. Enquanto não for digitado 0, o seu programa deve continuar rodando. Se digitado 1, seu programa deve cadastrar um novo cliente; se digitado 2, seu programa deve pedir um CPF e procurá-lo na lista de clientes (item c); se digitado 3, seu programa deve imprimir todos os clientes cadastrados."
   ]
  },
  {
   "cell_type": "code",
   "execution_count": 8,
   "metadata": {},
   "outputs": [
    {
     "name": "stdout",
     "output_type": "stream",
     "text": [
      "[['teste', '1', '1'], ['agga', '2', '2']]\n",
      "Encerrando o programa\n"
     ]
    }
   ],
   "source": [
    "def input_dados():\n",
    "    retorno = ['','','']\n",
    "    retorno[0] = input('Digite o seu nome')\n",
    "    retorno[1] = input('Digite o seu cpf')\n",
    "    retorno[2] = input('Digite o seu email')\n",
    "    return retorno\n",
    "\n",
    "def find_cliente(list_clientes, cpf):\n",
    "    cliente_encontrado = [element for element in list_clientes if element[1] == cpf]\n",
    "    \n",
    "    if len(cliente_encontrado) != 0:\n",
    "        return cliente_encontrado\n",
    "    else:\n",
    "        return 'não encontrado'\n",
    "\n",
    "\n",
    "list_clientes = []\n",
    "input_menu = '1'\n",
    "\n",
    "while input_menu != '0':\n",
    "    input_menu = input('Escolha uma opcao: 1-Cadastrar cliente, 2-Encontrar um cliente, 3-Imprimir todos os clientes, 0-Sair do programa')\n",
    "    if input_menu == '1':\n",
    "        list_clientes.append(input_dados())\n",
    "    elif input_menu == '2':\n",
    "        cpf = input('Digite o cpf do cliente que deseja encontrar')\n",
    "        print(find_cliente(list_clientes,cpf))\n",
    "    elif input_menu == '3':\n",
    "        print(list_clientes)\n",
    "    elif input_menu == '0':\n",
    "        print('Encerrando o programa')\n",
    "    else:\n",
    "        print('Opcao inválida, tente novamente')"
   ]
  },
  {
   "cell_type": "markdown",
   "metadata": {},
   "source": [
    "**03. Faça um jogo de BlackJack usando funções: o BlackJack, ou Vinte e Um, é um jogo em que os jogadores podem comprar cartas livremente, enquanto tiverem menos de 21 pontos. No nosso jogo, o Ás vale um ponto; as cartas de 2 a 10 valem o número de pontos que elas representam; e Valete, Dama e Rei valem 10 pontos cada. Ganha o jogador que tiver o maior número de pontos, desde que este seja menor ou igual a 21. Nosso jogo deve ter as seguintes funções:**\n",
    "\n",
    "a. Função principal: a função que vamos chamar para iniciar o jogo. Essa função não irá receber nem retornar nenhuma variável. Ela deve perguntar o número de jogadores participantes e o nome de cada um. Em seguida ela chama as outras funções do jogo.  \n",
    "b. Função para criar o baralho: essa função deve criar um baralho (uma lista) com as cartas do baralho.  \n",
    "c. Função para a jogada: essa função deve receber o nome do jogador que irá realizar a jogada e, caso ele ainda esteja ativo (tenha menos de 21 pontos e ainda não tenha desistido de comprar cartas) deve perguntar se ele quer comprar uma carta. Se ele responder que sim, a função deve chamar a próxima função para sortear uma carta e somar o valor retornado na pontuação do jogador; se ele responder que não, a função deve desativar o jogador para que ele não possa mais comprar cartas; Essa função só deve ser chamada enquanto houver jogadores ativos.   \n",
    "d. Função para o sorteio: essa função retira uma carta aleatória do baralho e retorna o número de pontos que essa carta vale.  \n",
    "e. Função verificação: verifica e indica qual/quais jogador/jogadores tem o maior número de pontos, que seja menor ou igual a 21."
   ]
  },
  {
   "cell_type": "code",
   "execution_count": 11,
   "metadata": {},
   "outputs": [
    {
     "name": "stdout",
     "output_type": "stream",
     "text": [
      "Vencedor(es): {'josue': 20, 'victor': 20}\n"
     ]
    }
   ],
   "source": [
    "import random\n",
    "\n",
    "def main():\n",
    "    numero_jogadores = int(input('Digite o numero de jogadores'))\n",
    "    #Coletando o nome dos jogadores e criando um dict\n",
    "    dict_jogadores = {input('Digite o nome do jogador ' + str(i+1)):{'jogando':True,'pontos':0} for i in range(0, numero_jogadores)}\n",
    "\n",
    "    baralho = criar_baralho()\n",
    "    for jogador in dict_jogadores.keys():\n",
    "        jogada(jogador,dict_jogadores,baralho)\n",
    "    verifica(dict_jogadores)\n",
    "\n",
    "\n",
    "def criar_baralho() -> list:\n",
    "    return ['As',2,3,4,5,6,7,8,9,10,'Valete','Dama', 'Rei'] * 4 #*4 para simular os 4 naipes do baralho\n",
    "\n",
    "def jogada(nome_jogador : str,dict_jogadores,baralho):\n",
    "    jogador = dict_jogadores[nome_jogador] #\n",
    "\n",
    "    while jogador['jogando']:\n",
    "        menu_jogador = input(f'{nome_jogador} Deseja comprar uma carta? (S/N)').upper()\n",
    "        \n",
    "        if menu_jogador == 'S':\n",
    "            jogador['pontos'] = jogador['pontos'] + sorteio(baralho)\n",
    "            print(nome_jogador, 'Pontos:', jogador['pontos'])\n",
    "\n",
    "            if jogador['pontos'] >= 21:\n",
    "                jogador['jogando'] = False\n",
    "\n",
    "        else:\n",
    "            jogador['jogando'] = False\n",
    "\n",
    "def sorteio(baralho: list)->int:\n",
    "    carta = random.choice(baralho)\n",
    "    print('Carta Retirada', carta)\n",
    "    baralho.remove(carta) #remove para remover a carta sortida, simulando um baralho real\n",
    "\n",
    "    if type(carta) == int:\n",
    "        return carta\n",
    "    else:\n",
    "        return 1 if carta == 'As' else 10    \n",
    "\n",
    "def verifica(dict_jogadores: dict):\n",
    "    dict_vencedores = {}\n",
    "\n",
    "    for n in range(21,0,-1):\n",
    "        for jogador,dict_value in dict_jogadores.items():\n",
    "            if dict_value['pontos'] == n:\n",
    "                dict_vencedores[jogador] = dict_value['pontos']\n",
    "        if len(dict_vencedores):\n",
    "            break\n",
    "\n",
    "    print('Vencedor(es):', dict_vencedores)\n",
    "\n",
    "main()\n"
   ]
  },
  {
   "cell_type": "code",
   "execution_count": 9,
   "metadata": {},
   "outputs": [
    {
     "name": "stdout",
     "output_type": "stream",
     "text": [
      "21\n",
      "20\n",
      "19\n",
      "18\n",
      "17\n",
      "16\n",
      "15\n",
      "14\n",
      "13\n",
      "12\n",
      "11\n",
      "10\n",
      "9\n",
      "8\n",
      "7\n",
      "6\n",
      "5\n",
      "4\n",
      "3\n",
      "2\n",
      "1\n"
     ]
    }
   ],
   "source": [
    "for n in range(21,0,-1):\n",
    "    print(n)"
   ]
  },
  {
   "cell_type": "markdown",
   "metadata": {},
   "source": [
    "**04. Desenvolva uma função recursiva que calcule e mostre o maior elemento de um array de tamanho N. Os elementos consistem em números inteiros.**"
   ]
  },
  {
   "cell_type": "code",
   "execution_count": 20,
   "metadata": {},
   "outputs": [
    {
     "name": "stdout",
     "output_type": "stream",
     "text": [
      "O maior numero é: 283\n"
     ]
    }
   ],
   "source": [
    "def merge_sort(lista: list, primeiro=False) -> int:\n",
    "    if len(lista) > 1:\n",
    "        metade = len(lista) // 2\n",
    "        esquerda = lista[:metade]\n",
    "        direita = lista[metade:]\n",
    "\n",
    "        merge_sort(esquerda)\n",
    "        merge_sort(direita)\n",
    "\n",
    "        i = 0\n",
    "        j = 0\n",
    "        k = 0\n",
    "\n",
    "        while i < len(esquerda) and j < len(direita):\n",
    "            if esquerda[i] <= direita[j]:\n",
    "                lista[k] = esquerda[i]\n",
    "                i += 1\n",
    "            else:\n",
    "                lista[k] = direita[j]\n",
    "                j += 1\n",
    "            \n",
    "            k+=1\n",
    "\n",
    "        while i < len(esquerda):\n",
    "            lista[k] = esquerda[i]\n",
    "            i += 1\n",
    "            k += 1\n",
    "\n",
    "        while j < len(direita):\n",
    "            lista[k] = direita[j]\n",
    "            j += 1\n",
    "            k += 1\n",
    "\n",
    "    if primeiro == True:\n",
    "        print('O maior numero é:', lista[-1])\n",
    "\n",
    "lista = [10,283,49,29,10,2,3,5,7,189]\n",
    "merge_sort(lista, True)\n"
   ]
  },
  {
   "cell_type": "markdown",
   "metadata": {},
   "source": [
    "#### Super Dígito 🤔\n",
    "\n",
    "O super dígito de um número inteiro *x* é obtido da seguinte forma:\n",
    "\n",
    "- Se *x* é composto por apenas um dígito, então, esse dígito é o super dígito de x.\n",
    "- Do contrário, o super dígito de *x* é igual ao super dígito da soma dos dígitos de x.\n",
    "\n",
    "Perceba que, enquanto não chegarmos a um número composto por apenas **um dígito**, ainda não encontramos o super dígito de *x*.\n",
    "\n",
    "Por exemplificar, o super dígito de 9875 é:\n",
    "\n",
    "```python\n",
    "super_digit(9875) = 9 + 8 + 7 + 5 = 29\n",
    "super_digit(29)   = 2 + 9 = 11\n",
    "super_digit(11)   = 1 + 1 = 2\n",
    "super_digit(2)    = 2\n",
    "```\n",
    "\n",
    "Portanto, no exemplo acima, se *x* for igual a 9875, o seu super dígito é igual a 2, pois calculamos o super dígito da soma dos seus dígitos, até que o resultado fosse apenas um número de apenas **um dígito**.\n",
    "\n",
    "Sabendo disso, o seu desafio é o seguinte:\n",
    "\n",
    "- você irá receber dois números do usuário, *n* e *k*. A partir desses dois números, você formará um novo número *p*, que será a concatenação no número *n*, *k* vezes. Por exemplo, se *n = 9875* e *k = 4*, *p = 9875 9875 9875 9875*; ou seja *p* é 9875, 4 vezes.\n",
    "\n",
    "- Sabendo o valor de *p*, **calcule o seu super dígito por meio de uma função recursiva**.\n",
    "\n",
    "Exemplo de entrada ||| Exemplo de saída\n",
    "------------------ ||| ----------------\n",
    "148 3              ||| 3\n",
    "9875 4             ||| 8\n",
    "123 3              ||| 9"
   ]
  },
  {
   "cell_type": "code",
   "execution_count": 25,
   "metadata": {},
   "outputs": [
    {
     "name": "stdout",
     "output_type": "stream",
     "text": [
      "9875987598759875\n",
      "8\n"
     ]
    }
   ],
   "source": [
    "def super_digit(numero_input: str) -> int:\n",
    "    soma = 0\n",
    "    for digito in numero_input:\n",
    "        soma += int(digito)\n",
    "\n",
    "    if soma >= 10:\n",
    "        soma = super_digit(str(soma))\n",
    "    return soma\n",
    "\n",
    "n = input('Digite um numero n: ')\n",
    "k = int(input('Digite quantas vezes o numero n ira se repetir k:'))\n",
    "\n",
    "numero_input = n * k\n",
    "print(super_digit(numero_input))\n"
   ]
  },
  {
   "cell_type": "markdown",
   "metadata": {},
   "source": [
    "---\n",
    "\n",
    "### Para evoluir! 🚀"
   ]
  },
  {
   "cell_type": "markdown",
   "metadata": {},
   "source": [
    "**01. Faça uma função que recebe um número e imprime seu dobro.**"
   ]
  },
  {
   "cell_type": "code",
   "execution_count": null,
   "metadata": {},
   "outputs": [],
   "source": []
  },
  {
   "cell_type": "markdown",
   "metadata": {},
   "source": [
    "**02. Faça uma função que recebe o valor do raio de um círculo e retorna o valor do comprimento de sua circunferência.**\n",
    "\n",
    "$$\n",
    "C = 2*pi*r\n",
    "$$"
   ]
  },
  {
   "cell_type": "code",
   "execution_count": null,
   "metadata": {},
   "outputs": [],
   "source": []
  },
  {
   "cell_type": "markdown",
   "metadata": {},
   "source": [
    "**03. Faça uma função para cada operação matemática básica (soma, subtração, multiplicação e divisão). As funções devem receber dois números e retornar o resultado da operação.**"
   ]
  },
  {
   "cell_type": "code",
   "execution_count": null,
   "metadata": {},
   "outputs": [],
   "source": []
  },
  {
   "cell_type": "markdown",
   "metadata": {},
   "source": [
    "**04. Faça uma função que recebe um nome e imprime “olá, [nome]”.**"
   ]
  },
  {
   "cell_type": "code",
   "execution_count": null,
   "metadata": {},
   "outputs": [],
   "source": []
  },
  {
   "cell_type": "markdown",
   "metadata": {},
   "source": [
    "**05. Faça uma função que recebe um nome e um horário e imprime “Bom dia, [nome]”, caso seja antes de 12h, “Boa Tarde, [nome]”, caso seja entre 12h e 18h e “Boa noite, [nome]” se for após às 18h.**"
   ]
  },
  {
   "cell_type": "code",
   "execution_count": null,
   "metadata": {},
   "outputs": [],
   "source": []
  },
  {
   "cell_type": "markdown",
   "metadata": {},
   "source": [
    "**06. Faça uma função que recebe um número e retorna True se ele é par ou False, se ele é ímpar.**"
   ]
  },
  {
   "cell_type": "code",
   "execution_count": null,
   "metadata": {},
   "outputs": [],
   "source": []
  },
  {
   "cell_type": "markdown",
   "metadata": {},
   "source": [
    "**07. Faça uma função que sorteia 10 números aleatórios entre 0 e 100 e retorna o maior entre eles.**"
   ]
  },
  {
   "cell_type": "code",
   "execution_count": null,
   "metadata": {},
   "outputs": [],
   "source": []
  },
  {
   "cell_type": "markdown",
   "metadata": {},
   "source": [
    "**08. aça uma função que recebe um número n de entrada, sorteia n números aleatórios entre 0 e 100 e retorna a média deles.**"
   ]
  },
  {
   "cell_type": "code",
   "execution_count": null,
   "metadata": {},
   "outputs": [],
   "source": []
  },
  {
   "cell_type": "markdown",
   "metadata": {},
   "source": [
    "**09. Faça uma função que recebe uma lista de palavras e retorna uma lista contendo as mesmas palavras da lista anterior, porém escritas em caixa alta.**"
   ]
  },
  {
   "cell_type": "code",
   "execution_count": null,
   "metadata": {},
   "outputs": [],
   "source": []
  },
  {
   "cell_type": "markdown",
   "metadata": {},
   "source": [
    "**10. Faça uma função que recebe duas listas e retorna a soma item a item dessas listas.**\n",
    "\n",
    "_Exemplo: Se a função receber as listas [1,4,3] e [3,5,1], então a função deve retornar [1+3, 4+5, 3+1] = [4, 9, 4]._"
   ]
  },
  {
   "cell_type": "code",
   "execution_count": null,
   "metadata": {},
   "outputs": [],
   "source": []
  },
  {
   "cell_type": "markdown",
   "metadata": {},
   "source": [
    "**11. Faça uma função que receba duas listas e retorne o produto item a item dessas listas.**\n",
    "\n",
    "_Exemplo: Se a função receber as listas [1,4,3] e [3,5,1], então a função deve retornar [1x3, 4x5, 3x1] = [3, 20, 3]._"
   ]
  },
  {
   "cell_type": "code",
   "execution_count": null,
   "metadata": {},
   "outputs": [],
   "source": []
  },
  {
   "cell_type": "markdown",
   "metadata": {},
   "source": [
    "**12. Faça uma função que recebe um número x e uma lista numérica e retorna uma lista cujos elementos são os itens da lista de entrada multiplicado por x.**\n",
    "\n",
    "_Exemplo: Se a função receber o número 5 e a lista [3,5,1], então a função deve retornar [5x3, 5x5, 5x1] = [15, 25, 5]._"
   ]
  },
  {
   "cell_type": "code",
   "execution_count": null,
   "metadata": {},
   "outputs": [],
   "source": []
  },
  {
   "cell_type": "markdown",
   "metadata": {},
   "source": [
    "**13. Faça uma função que recebe uma lista de números e retorna a soma dos elementos dessa lista.**"
   ]
  },
  {
   "cell_type": "code",
   "execution_count": null,
   "metadata": {},
   "outputs": [],
   "source": []
  },
  {
   "cell_type": "markdown",
   "metadata": {},
   "source": [
    "**14. Faça uma função que recebe uma lista de números e retorna a média aritmética dos elementos dessa lista.**"
   ]
  },
  {
   "cell_type": "code",
   "execution_count": null,
   "metadata": {},
   "outputs": [],
   "source": []
  },
  {
   "cell_type": "markdown",
   "metadata": {},
   "source": [
    "**15. Crie uma função que recebe uma lista de números e devolve, nesta ordem, o mínimo, a média, o desvio padrão e o máximo.**\n",
    "\n",
    "_Dica: Use a biblioteca statistics (`import statistics`) para calcular o desvio padrão:\n",
    "`desvio = statistics.stdev(lista)`_"
   ]
  },
  {
   "cell_type": "code",
   "execution_count": null,
   "metadata": {},
   "outputs": [],
   "source": []
  },
  {
   "cell_type": "markdown",
   "metadata": {},
   "source": [
    "**16. Crie uma função que recebe uma lista e retorna True se todos os seus elementos forem numéricos (int, float ou string contendo um int ou float) ou False do contrário. A função deve também retornar a lista tratada: transformar todas as entradas não numéricas em numéricas ou, no melhor caso, devolver a lista apenas.**"
   ]
  },
  {
   "cell_type": "code",
   "execution_count": null,
   "metadata": {},
   "outputs": [],
   "source": []
  },
  {
   "cell_type": "markdown",
   "metadata": {},
   "source": [
    "**17. Faça uma função que recebe valores a, b e c, resolve a equação quadrática a*x**2 + b*x + c = 0 e retorna:**\n",
    "\n",
    "a. o valor de Δ onde Δ = b**2- 4*a*c  \n",
    "b. uma tupla com o valor do ponto de mínimo ou máximo: x_m = -b/(2*a) e y_m = -Δ/(4*a);  \n",
    "c. uma lista contendo as raízes (a lista pode ser vazia, caso Δ<0; pode conter apenas um elemento, caso Δ = 0; ou conter duas raízes, caso Δ> 0)."
   ]
  },
  {
   "cell_type": "code",
   "execution_count": null,
   "metadata": {},
   "outputs": [],
   "source": []
  }
 ],
 "metadata": {
  "interpreter": {
   "hash": "31f2aee4e71d21fbe5cf8b01ff0e069b9275f58929596ceb00d14d90e3e16cd6"
  },
  "kernelspec": {
   "display_name": "Python 3.10.0 64-bit",
   "language": "python",
   "name": "python3"
  },
  "language_info": {
   "codemirror_mode": {
    "name": "ipython",
    "version": 3
   },
   "file_extension": ".py",
   "mimetype": "text/x-python",
   "name": "python",
   "nbconvert_exporter": "python",
   "pygments_lexer": "ipython3",
   "version": "3.10.0"
  },
  "orig_nbformat": 4
 },
 "nbformat": 4,
 "nbformat_minor": 2
}
