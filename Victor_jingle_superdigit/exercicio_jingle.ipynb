{
 "cells": [
  {
   "cell_type": "markdown",
   "metadata": {},
   "source": [
    "# Exercícios\n",
    "\n",
    "#### 04. Tuplas e Dicionários\n",
    "\n",
    "---\n",
    "\n",
    "<img src=\"https://selecao.letscode.com.br/favicon.png\" width=\"40px\" style=\"position: absolute; top: 0px; right: 40px; border-radius: 5px;\" />"
   ]
  },
  {
   "cell_type": "markdown",
   "metadata": {},
   "source": [
    "### Compondo Jingles 🎶\n",
    "\n",
    "A. C. Marcos está dando os primeiros passos para ser um compositor de jingles. Ele está tendo alguns problemas, mas ao menos ele está criando melodias agradáveis e ritmos atrativos.\n",
    "\n",
    "Na música, uma nota tem um tom (sua frequência, resultando em quão grave ou agudo é o som) e uma duração (por quanto tempo a nota soa). Neste problema, estamos interessados apenas na duração das notas.\n",
    "\n",
    "Um jingle é dividido em uma sequência de compassos, e um compasso é formado de uma série de notas.\n",
    "\n",
    "A duração de uma nota é indicada pela sua forma. Neste problema, iremos utilizar letras maiúsculas para indicar a duração de uma nota. A seguinte tabela lista todas as notas disponíveis:\n",
    "\n",
    "<img src=\"https://resources.beecrowd.com.br/gallery/images/novos/Jingle%20Composing_PT.png\" style=\"display: block; margin: 1rem auto\" />\n",
    "\n",
    "A duração de um compasso é a soma da duração de suas notas. Nos jingles de Marcos, cada compasso tem a mesma duração. Como Marcos é apenas um iniciante, seu famoso professor Johann Sebastian III o ensinou que a duração de um compasso deve ser sempre 1.\n",
    "\n",
    "Por exemplo, Marcos escreveu uma composição contendo cinco compassos, dentre os quais quatro possuem a duração correta e um está errado. No exemplo abaixo, cada compasso é delimitado com barras e cada nota é representada como na tabela acima.\n",
    "\n",
    "<center>\n",
    "/HH/QQQQ/XXXTXTEQH/W/HW/\n",
    "</center>\n",
    "\n",
    "Marcos gosta de computadores assim como de música. Ele quer que você escreva um programa que determine, para cada uma de suas composições, quantos compassos possuem a duração correta e quais são os compassos com duração incorreta.\n",
    "\n",
    "|  Exemplo de Entrada | Exemplo de Saída     |\n",
    "|:-------------------:|:--------------------:|\n",
    "|/HH/QQQQ/XXXTXTEQH/W/HW/ |\tQtd. de Corretos: 4 |\n",
    "| | Incorretos: HW |\n",
    "| /W/W/SQHES/\t| Qtd. de Corretos: 3|\n",
    "| /WE/TEX/THES/\t| Qtd. de Corretos: 0|\n",
    "| | Incorretos: [WE, TEX, THES] |"
   ]
  },
  {
   "cell_type": "code",
   "execution_count": 48,
   "metadata": {},
   "outputs": [
    {
     "name": "stdout",
     "output_type": "stream",
     "text": [
      "Notas /WE/TEX/THES/\n",
      "Quantidade de compassos corretos 0\n",
      "listas incorreras ['WE', 'TEX', 'THES']\n"
     ]
    }
   ],
   "source": [
    "dict_notas = {'W':1, 'H':1/2, 'Q':1/4, 'E':1/8, 'S':1/16, 'T':1/32, 'X':1/64}\n",
    "corretos = 0\n",
    "list_incorretos = []\n",
    "\n",
    "string_input = input('Escreva as notas separadas por /').upper()\n",
    "list_compassos = string_input.split('/')\n",
    "\n",
    "for compasso in list_compassos:\n",
    "\n",
    "    if compasso == '': #Evitando compassos vazios no começo e no final\n",
    "        continue\n",
    "\n",
    "    soma = 0\n",
    "    for nota in compasso:\n",
    "        soma = soma + dict_notas[nota]\n",
    "    if soma == 1:\n",
    "        corretos += 1\n",
    "    else:\n",
    "        list_incorretos.append(compasso)\n",
    "\n",
    "print('Notas', string_input)\n",
    "print('Quantidade de compassos corretos', corretos)\n",
    "if len(list_incorretos) != 0:\n",
    "    print('listas incorreras', list_incorretos)\n",
    "else:\n",
    "    print('Todas estao corretas, Parabéns!!!')"
   ]
  }
 ],
 "metadata": {
  "interpreter": {
   "hash": "2d9ac9e060497604dea6fba72bd48d393b1b81e73a08124be335687b5372a8de"
  },
  "kernelspec": {
   "display_name": "Python 3.10.0 64-bit ('itau_Bootcamp': conda)",
   "language": "python",
   "name": "python3"
  },
  "language_info": {
   "codemirror_mode": {
    "name": "ipython",
    "version": 3
   },
   "file_extension": ".py",
   "mimetype": "text/x-python",
   "name": "python",
   "nbconvert_exporter": "python",
   "pygments_lexer": "ipython3",
   "version": "3.10.0"
  },
  "orig_nbformat": 4
 },
 "nbformat": 4,
 "nbformat_minor": 2
}
