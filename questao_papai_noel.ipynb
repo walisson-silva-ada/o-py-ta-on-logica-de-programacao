{
 "cells": [
  {
   "cell_type": "code",
   "execution_count": null,
   "metadata": {},
   "outputs": [],
   "source": [
    "pais = input(\"Digite o país: \")\n",
    "\n",
    "dict_paises = {\n",
    "\"brasil\": \"Feliz Natal!\",\n",
    "\"alemanha\": \"Frohliche Weihnachten!\",\n",
    "\"austria\": \"Frohe Weihnacht!\",\n",
    "\"coreia\": \"Chuk Sung Tan!\",\n",
    "\"espanha\": \"Feliz Navidad!\",\n",
    "\"grecia\": \"Kala Christougena!\",\n",
    "\"estados-unidos\": \"Merry Christmas!\",\n",
    "\"inglaterra\": \"Merry Christmas!\",\n",
    "\"australia\": \"Merry Christmas!\",\n",
    "\"portugal\": \"Feliz Natal!\",\n",
    "\"suecia\": \"God Jul!\",\n",
    "\"turquia\": \"Mutlu Noeller\",\n",
    "\"argentina\": \"Feliz Navidad!\",\n",
    "\"chile\": \"Feliz Navidad!\",\n",
    "\"mexico\": \"Feliz Navidad!\",\n",
    "\"antardida\": \"Merry Christmas!\",\n",
    "\"canada\": \"Merry Christmas!\",\n",
    "\"irlanda\": \"Nollaig Shona Dhuit!\",\n",
    "\"belgica\": \"Zalig Kerstfeest!\",\n",
    "\"italia\": \"Buon Natale!\",\n",
    "\"libia\": \"Buon Natale!\",\n",
    "\"siria\": \"Milad Mubarak!\",\n",
    "\"marrocos\": \"Milad Mubarak!\",\n",
    "\"japao\": \"Merii Kurisumasu!\"\n",
    "}\n",
    "\n",
    "if pais in dict_paises:\n",
    "    print(dict_paises[pais])\n",
    "else:\n",
    "    print(\"--- NOT FOUND ---\")"
   ]
  }
 ],
 "metadata": {
  "language_info": {
   "name": "python"
  },
  "orig_nbformat": 4
 },
 "nbformat": 4,
 "nbformat_minor": 2
}
