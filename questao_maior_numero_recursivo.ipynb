{
 "cells": [
  {
   "cell_type": "markdown",
   "metadata": {},
   "source": [
    "### **Desenvolva uma função recursiva que calcule e mostre o maior elemento de um array de tamanho N. Os elementos consistem em números inteiros.**"
   ]
  },
  {
   "cell_type": "code",
   "execution_count": 3,
   "metadata": {},
   "outputs": [],
   "source": [
    "def procurar_maior(lista):\n",
    "    tamanho = len(lista)\n",
    "    metade = tamanho//2\n",
    "    if tamanho > 2:\n",
    "        esquerda = procurar_maior(lista[:metade])\n",
    "        direita = procurar_maior(lista[metade:])\n",
    "        return esquerda if esquerda > direita else direita\n",
    "    elif tamanho == 2:\n",
    "        return lista[0] if lista[0] > lista[1] else lista[1]\n",
    "    elif tamanho == 1:\n",
    "        return lista[0]\n",
    "    else:\n",
    "        print('A lista está vazia...')\n",
    "        return None"
   ]
  },
  {
   "cell_type": "code",
   "execution_count": 4,
   "metadata": {},
   "outputs": [
    {
     "name": "stdout",
     "output_type": "stream",
     "text": [
      "O maior número da lista [54, 60, 65, 18, 58, 87, 14, 100, 20, 27] é 100\n"
     ]
    }
   ],
   "source": [
    "import random as rd\n",
    "\n",
    "tamanho = 10 # Esse aqui é o meu N\n",
    "array = []\n",
    "for _ in range(tamanho):\n",
    "    array.append(rd.randint(1,100)) # Escolhi numeros inteiros de 1 até 100 arbitrariamente\n",
    "print(f'O maior número da lista {array} é {procurar_maior(array)}')"
   ]
  },
  {
   "cell_type": "code",
   "execution_count": 154,
   "metadata": {},
   "outputs": [],
   "source": [
    "# Função recursiva para o cálculo do Super Dígito\n",
    "def super_digito(numero):\n",
    "    if len(numero) == 1:\n",
    "        return int(numero)\n",
    "    else:\n",
    "        soma = 0\n",
    "        for digito in numero:\n",
    "            soma += int(digito)\n",
    "        return super_digito(str(soma))"
   ]
  },
  {
   "cell_type": "code",
   "execution_count": 159,
   "metadata": {},
   "outputs": [
    {
     "name": "stdin",
     "output_type": "stream",
     "text": [
      "Digite um número e a quantidade de repetições:  9875 4\n"
     ]
    },
    {
     "name": "stdout",
     "output_type": "stream",
     "text": [
      "O número concatenado é 9875987598759875, seu superdígito vale 8\n"
     ]
    }
   ],
   "source": [
    "# Teste\n",
    "entradas = input('Digite um número e a quantidade de repetições: ').split()\n",
    "entrada = ''\n",
    "# Transformação do número\n",
    "for _ in range(int(entradas[1])):\n",
    "    entrada += entradas[0]\n",
    "print(f'O número concatenado é {entrada}, seu superdígito vale {super_digito(entrada)}')"
   ]
  }
 ],
 "metadata": {
  "interpreter": {
   "hash": "31f2aee4e71d21fbe5cf8b01ff0e069b9275f58929596ceb00d14d90e3e16cd6"
  },
  "kernelspec": {
   "display_name": "Python 3 (ipykernel)",
   "language": "python",
   "name": "python3"
  },
  "language_info": {
   "codemirror_mode": {
    "name": "ipython",
    "version": 3
   },
   "file_extension": ".py",
   "mimetype": "text/x-python",
   "name": "python",
   "nbconvert_exporter": "python",
   "pygments_lexer": "ipython3",
   "version": "3.9.5"
  }
 },
 "nbformat": 4,
 "nbformat_minor": 4
}
